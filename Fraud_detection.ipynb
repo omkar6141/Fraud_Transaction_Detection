{
  "nbformat": 4,
  "nbformat_minor": 0,
  "metadata": {
    "colab": {
      "provenance": [],
      "collapsed_sections": []
    },
    "kernelspec": {
      "name": "python3",
      "display_name": "Python 3"
    },
    "language_info": {
      "name": "python"
    }
  },
  "cells": [
    {
      "cell_type": "code",
      "execution_count": null,
      "metadata": {
        "id": "U2IYGpEPS6aG"
      },
      "outputs": [],
      "source": [
        "import pandas as pd\n",
        "import numpy as np"
      ]
    },
    {
      "cell_type": "code",
      "source": [
        "df= pd.read_csv('/content/drive/MyDrive/INSAID/Fraud.csv')\n",
        "df.shape"
      ],
      "metadata": {
        "id": "ajm7HAEgXlf9",
        "colab": {
          "base_uri": "https://localhost:8080/"
        },
        "outputId": "aaf93c9c-42bc-4334-cd6e-fddd28bf7ac7"
      },
      "execution_count": null,
      "outputs": [
        {
          "output_type": "execute_result",
          "data": {
            "text/plain": [
              "(6362620, 11)"
            ]
          },
          "metadata": {},
          "execution_count": 3
        }
      ]
    },
    {
      "cell_type": "code",
      "source": [
        "df.head()"
      ],
      "metadata": {
        "id": "VyX8wuiyXs4K",
        "colab": {
          "base_uri": "https://localhost:8080/",
          "height": 270
        },
        "outputId": "0bee27d3-5908-41ab-8254-5edbbe009380"
      },
      "execution_count": null,
      "outputs": [
        {
          "output_type": "execute_result",
          "data": {
            "text/plain": [
              "   step      type    amount     nameOrig  oldbalanceOrg  newbalanceOrig  \\\n",
              "0     1   PAYMENT   9839.64  C1231006815       170136.0       160296.36   \n",
              "1     1   PAYMENT   1864.28  C1666544295        21249.0        19384.72   \n",
              "2     1  TRANSFER    181.00  C1305486145          181.0            0.00   \n",
              "3     1  CASH_OUT    181.00   C840083671          181.0            0.00   \n",
              "4     1   PAYMENT  11668.14  C2048537720        41554.0        29885.86   \n",
              "\n",
              "      nameDest  oldbalanceDest  newbalanceDest  isFraud  isFlaggedFraud  \n",
              "0  M1979787155             0.0             0.0        0               0  \n",
              "1  M2044282225             0.0             0.0        0               0  \n",
              "2   C553264065             0.0             0.0        1               0  \n",
              "3    C38997010         21182.0             0.0        1               0  \n",
              "4  M1230701703             0.0             0.0        0               0  "
            ],
            "text/html": [
              "\n",
              "  <div id=\"df-de2be867-b22d-48f3-bec0-d2e04d1264e9\">\n",
              "    <div class=\"colab-df-container\">\n",
              "      <div>\n",
              "<style scoped>\n",
              "    .dataframe tbody tr th:only-of-type {\n",
              "        vertical-align: middle;\n",
              "    }\n",
              "\n",
              "    .dataframe tbody tr th {\n",
              "        vertical-align: top;\n",
              "    }\n",
              "\n",
              "    .dataframe thead th {\n",
              "        text-align: right;\n",
              "    }\n",
              "</style>\n",
              "<table border=\"1\" class=\"dataframe\">\n",
              "  <thead>\n",
              "    <tr style=\"text-align: right;\">\n",
              "      <th></th>\n",
              "      <th>step</th>\n",
              "      <th>type</th>\n",
              "      <th>amount</th>\n",
              "      <th>nameOrig</th>\n",
              "      <th>oldbalanceOrg</th>\n",
              "      <th>newbalanceOrig</th>\n",
              "      <th>nameDest</th>\n",
              "      <th>oldbalanceDest</th>\n",
              "      <th>newbalanceDest</th>\n",
              "      <th>isFraud</th>\n",
              "      <th>isFlaggedFraud</th>\n",
              "    </tr>\n",
              "  </thead>\n",
              "  <tbody>\n",
              "    <tr>\n",
              "      <th>0</th>\n",
              "      <td>1</td>\n",
              "      <td>PAYMENT</td>\n",
              "      <td>9839.64</td>\n",
              "      <td>C1231006815</td>\n",
              "      <td>170136.0</td>\n",
              "      <td>160296.36</td>\n",
              "      <td>M1979787155</td>\n",
              "      <td>0.0</td>\n",
              "      <td>0.0</td>\n",
              "      <td>0</td>\n",
              "      <td>0</td>\n",
              "    </tr>\n",
              "    <tr>\n",
              "      <th>1</th>\n",
              "      <td>1</td>\n",
              "      <td>PAYMENT</td>\n",
              "      <td>1864.28</td>\n",
              "      <td>C1666544295</td>\n",
              "      <td>21249.0</td>\n",
              "      <td>19384.72</td>\n",
              "      <td>M2044282225</td>\n",
              "      <td>0.0</td>\n",
              "      <td>0.0</td>\n",
              "      <td>0</td>\n",
              "      <td>0</td>\n",
              "    </tr>\n",
              "    <tr>\n",
              "      <th>2</th>\n",
              "      <td>1</td>\n",
              "      <td>TRANSFER</td>\n",
              "      <td>181.00</td>\n",
              "      <td>C1305486145</td>\n",
              "      <td>181.0</td>\n",
              "      <td>0.00</td>\n",
              "      <td>C553264065</td>\n",
              "      <td>0.0</td>\n",
              "      <td>0.0</td>\n",
              "      <td>1</td>\n",
              "      <td>0</td>\n",
              "    </tr>\n",
              "    <tr>\n",
              "      <th>3</th>\n",
              "      <td>1</td>\n",
              "      <td>CASH_OUT</td>\n",
              "      <td>181.00</td>\n",
              "      <td>C840083671</td>\n",
              "      <td>181.0</td>\n",
              "      <td>0.00</td>\n",
              "      <td>C38997010</td>\n",
              "      <td>21182.0</td>\n",
              "      <td>0.0</td>\n",
              "      <td>1</td>\n",
              "      <td>0</td>\n",
              "    </tr>\n",
              "    <tr>\n",
              "      <th>4</th>\n",
              "      <td>1</td>\n",
              "      <td>PAYMENT</td>\n",
              "      <td>11668.14</td>\n",
              "      <td>C2048537720</td>\n",
              "      <td>41554.0</td>\n",
              "      <td>29885.86</td>\n",
              "      <td>M1230701703</td>\n",
              "      <td>0.0</td>\n",
              "      <td>0.0</td>\n",
              "      <td>0</td>\n",
              "      <td>0</td>\n",
              "    </tr>\n",
              "  </tbody>\n",
              "</table>\n",
              "</div>\n",
              "      <button class=\"colab-df-convert\" onclick=\"convertToInteractive('df-de2be867-b22d-48f3-bec0-d2e04d1264e9')\"\n",
              "              title=\"Convert this dataframe to an interactive table.\"\n",
              "              style=\"display:none;\">\n",
              "        \n",
              "  <svg xmlns=\"http://www.w3.org/2000/svg\" height=\"24px\"viewBox=\"0 0 24 24\"\n",
              "       width=\"24px\">\n",
              "    <path d=\"M0 0h24v24H0V0z\" fill=\"none\"/>\n",
              "    <path d=\"M18.56 5.44l.94 2.06.94-2.06 2.06-.94-2.06-.94-.94-2.06-.94 2.06-2.06.94zm-11 1L8.5 8.5l.94-2.06 2.06-.94-2.06-.94L8.5 2.5l-.94 2.06-2.06.94zm10 10l.94 2.06.94-2.06 2.06-.94-2.06-.94-.94-2.06-.94 2.06-2.06.94z\"/><path d=\"M17.41 7.96l-1.37-1.37c-.4-.4-.92-.59-1.43-.59-.52 0-1.04.2-1.43.59L10.3 9.45l-7.72 7.72c-.78.78-.78 2.05 0 2.83L4 21.41c.39.39.9.59 1.41.59.51 0 1.02-.2 1.41-.59l7.78-7.78 2.81-2.81c.8-.78.8-2.07 0-2.86zM5.41 20L4 18.59l7.72-7.72 1.47 1.35L5.41 20z\"/>\n",
              "  </svg>\n",
              "      </button>\n",
              "      \n",
              "  <style>\n",
              "    .colab-df-container {\n",
              "      display:flex;\n",
              "      flex-wrap:wrap;\n",
              "      gap: 12px;\n",
              "    }\n",
              "\n",
              "    .colab-df-convert {\n",
              "      background-color: #E8F0FE;\n",
              "      border: none;\n",
              "      border-radius: 50%;\n",
              "      cursor: pointer;\n",
              "      display: none;\n",
              "      fill: #1967D2;\n",
              "      height: 32px;\n",
              "      padding: 0 0 0 0;\n",
              "      width: 32px;\n",
              "    }\n",
              "\n",
              "    .colab-df-convert:hover {\n",
              "      background-color: #E2EBFA;\n",
              "      box-shadow: 0px 1px 2px rgba(60, 64, 67, 0.3), 0px 1px 3px 1px rgba(60, 64, 67, 0.15);\n",
              "      fill: #174EA6;\n",
              "    }\n",
              "\n",
              "    [theme=dark] .colab-df-convert {\n",
              "      background-color: #3B4455;\n",
              "      fill: #D2E3FC;\n",
              "    }\n",
              "\n",
              "    [theme=dark] .colab-df-convert:hover {\n",
              "      background-color: #434B5C;\n",
              "      box-shadow: 0px 1px 3px 1px rgba(0, 0, 0, 0.15);\n",
              "      filter: drop-shadow(0px 1px 2px rgba(0, 0, 0, 0.3));\n",
              "      fill: #FFFFFF;\n",
              "    }\n",
              "  </style>\n",
              "\n",
              "      <script>\n",
              "        const buttonEl =\n",
              "          document.querySelector('#df-de2be867-b22d-48f3-bec0-d2e04d1264e9 button.colab-df-convert');\n",
              "        buttonEl.style.display =\n",
              "          google.colab.kernel.accessAllowed ? 'block' : 'none';\n",
              "\n",
              "        async function convertToInteractive(key) {\n",
              "          const element = document.querySelector('#df-de2be867-b22d-48f3-bec0-d2e04d1264e9');\n",
              "          const dataTable =\n",
              "            await google.colab.kernel.invokeFunction('convertToInteractive',\n",
              "                                                     [key], {});\n",
              "          if (!dataTable) return;\n",
              "\n",
              "          const docLinkHtml = 'Like what you see? Visit the ' +\n",
              "            '<a target=\"_blank\" href=https://colab.research.google.com/notebooks/data_table.ipynb>data table notebook</a>'\n",
              "            + ' to learn more about interactive tables.';\n",
              "          element.innerHTML = '';\n",
              "          dataTable['output_type'] = 'display_data';\n",
              "          await google.colab.output.renderOutput(dataTable, element);\n",
              "          const docLink = document.createElement('div');\n",
              "          docLink.innerHTML = docLinkHtml;\n",
              "          element.appendChild(docLink);\n",
              "        }\n",
              "      </script>\n",
              "    </div>\n",
              "  </div>\n",
              "  "
            ]
          },
          "metadata": {},
          "execution_count": 4
        }
      ]
    },
    {
      "cell_type": "code",
      "source": [
        "df.isnull().sum()     #to check null values"
      ],
      "metadata": {
        "id": "rw-ALdQ4Xx_v",
        "colab": {
          "base_uri": "https://localhost:8080/"
        },
        "outputId": "67b795b7-8b72-4747-932e-001cb4e9f8e1"
      },
      "execution_count": null,
      "outputs": [
        {
          "output_type": "execute_result",
          "data": {
            "text/plain": [
              "step              0\n",
              "type              0\n",
              "amount            0\n",
              "nameOrig          0\n",
              "oldbalanceOrg     0\n",
              "newbalanceOrig    0\n",
              "nameDest          0\n",
              "oldbalanceDest    0\n",
              "newbalanceDest    0\n",
              "isFraud           0\n",
              "isFlaggedFraud    0\n",
              "dtype: int64"
            ]
          },
          "metadata": {},
          "execution_count": 5
        }
      ]
    },
    {
      "cell_type": "code",
      "source": [
        "df.info()"
      ],
      "metadata": {
        "id": "oxCAp3PAX7ry",
        "colab": {
          "base_uri": "https://localhost:8080/"
        },
        "outputId": "6e18e02c-783b-4e87-c3b4-619b01464de4"
      },
      "execution_count": null,
      "outputs": [
        {
          "output_type": "stream",
          "name": "stdout",
          "text": [
            "<class 'pandas.core.frame.DataFrame'>\n",
            "RangeIndex: 6362620 entries, 0 to 6362619\n",
            "Data columns (total 11 columns):\n",
            " #   Column          Dtype  \n",
            "---  ------          -----  \n",
            " 0   step            int64  \n",
            " 1   type            object \n",
            " 2   amount          float64\n",
            " 3   nameOrig        object \n",
            " 4   oldbalanceOrg   float64\n",
            " 5   newbalanceOrig  float64\n",
            " 6   nameDest        object \n",
            " 7   oldbalanceDest  float64\n",
            " 8   newbalanceDest  float64\n",
            " 9   isFraud         int64  \n",
            " 10  isFlaggedFraud  int64  \n",
            "dtypes: float64(5), int64(3), object(3)\n",
            "memory usage: 534.0+ MB\n"
          ]
        }
      ]
    },
    {
      "cell_type": "code",
      "source": [
        "df['isFraud'].value_counts()"
      ],
      "metadata": {
        "id": "vYnPVJqyYBx0",
        "colab": {
          "base_uri": "https://localhost:8080/"
        },
        "outputId": "0ef6e407-4203-42cb-c5fc-f6ef386bc268"
      },
      "execution_count": null,
      "outputs": [
        {
          "output_type": "execute_result",
          "data": {
            "text/plain": [
              "0    6354407\n",
              "1       8213\n",
              "Name: isFraud, dtype: int64"
            ]
          },
          "metadata": {},
          "execution_count": 7
        }
      ]
    },
    {
      "cell_type": "markdown",
      "source": [
        "As count of Fraud Transaction is too less as compared to legal (no fraud ) transaction . So it is Imbalanced data ,as the No_Fraud Class has very high number of observations and the Is_Fraud Class has very low number of observations .Hence for an Imbalaced Class dataset F1 score is the most appropriate metric."
      ],
      "metadata": {
        "id": "mhVCEb12YMtG"
      }
    },
    {
      "cell_type": "code",
      "source": [
        "import matplotlib.pyplot as plt\n",
        "labels = [\"no_fraud\", \"is_fraud\"]\n",
        "df['isFraud'].value_counts().plot(kind = \"bar\", rot = 0)\n",
        "plt.title(\"Fraud Graph\")\n",
        "plt.ylabel(\"Count\")\n",
        "plt.xticks(range(2), labels)\n",
        "plt.show()\n",
        "\n",
        "total=len(df.isFraud)\n",
        "is_fraud = len(df[df.isFraud == 1])\n",
        "print(\"Number of Is Fraud transactions: \",is_fraud)\n",
        "no_fraud = len(df[df.isFraud == 0])\n",
        "print(\"Number of No Fraud transactions: \",no_fraud)\n",
        "isfraud_percent=(is_fraud / total)* 100\n",
        "print(\"Percentage of Fraud transactions: {:.3f} % \".format(isfraud_percent))\n",
        "nofraud_percent=(no_fraud / total)* 100\n",
        "print(\"Percentage of No Fraud transactions: {:.3f} % \".format(nofraud_percent))"
      ],
      "metadata": {
        "id": "9XEy0yyeYO9S",
        "colab": {
          "base_uri": "https://localhost:8080/",
          "height": 351
        },
        "outputId": "c33341c3-777d-4033-ab7d-c358809f9f97"
      },
      "execution_count": null,
      "outputs": [
        {
          "output_type": "display_data",
          "data": {
            "text/plain": [
              "<Figure size 432x288 with 1 Axes>"
            ],
            "image/png": "[encoded data removed]"
          },
          "metadata": {
            "needs_background": "light"
          }
        },
        {
          "output_type": "stream",
          "name": "stdout",
          "text": [
            "Number of Is Fraud transactions:  8213\n",
            "Number of No Fraud transactions:  6354407\n",
            "Percentage of Fraud transactions: 0.129 % \n",
            "Percentage of No Fraud transactions: 99.871 % \n"
          ]
        }
      ]
    },
    {
      "cell_type": "markdown",
      "source": [
        "**Multicollinearity :-**\n",
        "For finding multicollinearity create a correlation Heat Map and find which features are highly correlated and drop it from dataset.Another method is like we can check Varience Inflation Factor , and the features with same VIF are correlated."
      ],
      "metadata": {
        "id": "GH-tgGy2bq8j"
      }
    },
    {
      "cell_type": "code",
      "source": [
        "import seaborn as sns\n",
        "import matplotlib.pyplot as plt\n",
        "corr=df.corr()\n",
        "\n",
        "plt.figure(figsize=(10,6))\n",
        "sns.heatmap(corr,annot=True)\n",
        "\n",
        "from sklearn import preprocessing\n",
        "label_encoder = preprocessing.LabelEncoder()\n",
        "df[\"type\"] = label_encoder.fit_transform(df[\"type\"].astype(str))\n",
        "df[\"nameOrig\"] = label_encoder.fit_transform(df[\"nameOrig\"].astype(str))\n",
        "df[\"nameDest\"] = label_encoder.fit_transform(df[\"nameDest\"].astype(str))\n",
        "\n",
        "#VIF\n",
        "from statsmodels.stats.outliers_influence import variance_inflation_factor\n",
        "vif_data = pd.DataFrame()\n",
        "vif_data[\"feature\"] = df.columns\n",
        "  \n",
        "vif_data[\"VIF\"] = [variance_inflation_factor(df.values, i)\n",
        "                          for i in range(len(df.columns))]\n",
        "  \n",
        "print(vif_data)"
      ],
      "metadata": {
        "id": "fxc7QzBobtis",
        "colab": {
          "base_uri": "https://localhost:8080/",
          "height": 659
        },
        "outputId": "0b639456-d181-4873-84b4-cba5f57f51fa"
      },
      "execution_count": null,
      "outputs": [
        {
          "output_type": "stream",
          "name": "stdout",
          "text": [
            "           feature         VIF\n",
            "0             step    2.791610\n",
            "1             type    4.467405\n",
            "2           amount    4.149312\n",
            "3         nameOrig    2.764234\n",
            "4    oldbalanceOrg  576.803777\n",
            "5   newbalanceOrig  582.709128\n",
            "6         nameDest    3.300975\n",
            "7   oldbalanceDest   73.349937\n",
            "8   newbalanceDest   85.005614\n",
            "9          isFraud    1.195305\n",
            "10  isFlaggedFraud    1.002587\n"
          ]
        },
        {
          "output_type": "display_data",
          "data": {
            "text/plain": [
              "<Figure size 720x432 with 2 Axes>"
            ],
            "image/png": "[encoded data removed]"
          },
          "metadata": {
            "needs_background": "light"
          }
        }
      ]
    },
    {
      "cell_type": "markdown",
      "source": [
        "\n",
        "*   oldbalanceOrg and newbalanceOrig are highly correlated.\n",
        "*   oldbalanceDest and newbalanceDest are correlated .\n",
        "\n",
        "we can drop features .It is a solution for multicollinearity.\n",
        "The code below removes one of the features which are correlated more than 90%\n"
      ],
      "metadata": {
        "id": "lPFqQKz5cWVb"
      }
    },
    {
      "cell_type": "code",
      "source": [
        "new_df=df.copy()\n",
        "def multicollinearity(df,threshold):\n",
        "  correlated_cols = set()\n",
        "  corr_matrix = df.corr()\n",
        "  for i in range(len(corr_matrix.columns)):\n",
        "    for j in range(i):\n",
        "      if abs(corr_matrix.iloc[i,j]) > threshold:\n",
        "        colname = corr_matrix.columns[i]\n",
        "        correlated_cols.add(colname)\n",
        "  return correlated_cols\n",
        "multicollinearity(new_df,0.9)\n",
        "\n"
      ],
      "metadata": {
        "colab": {
          "base_uri": "https://localhost:8080/"
        },
        "id": "THiVfEsRzTPP",
        "outputId": "0589e7bb-6d8b-4dd3-939d-516c7ba4f477"
      },
      "execution_count": null,
      "outputs": [
        {
          "output_type": "execute_result",
          "data": {
            "text/plain": [
              "{'newbalanceDest', 'newbalanceOrig'}"
            ]
          },
          "metadata": {},
          "execution_count": 10
        }
      ]
    },
    {
      "cell_type": "code",
      "source": [
        "corr_feature = multicollinearity(new_df,0.9)\n",
        "new_df.drop(labels=corr_feature,axis=1,inplace=True)\n",
        "new_df.head()"
      ],
      "metadata": {
        "colab": {
          "base_uri": "https://localhost:8080/",
          "height": 206
        },
        "id": "RtDbjIw23CI7",
        "outputId": "bfb5cc17-eb66-4c3d-b0e6-0e7d445708d3"
      },
      "execution_count": null,
      "outputs": [
        {
          "output_type": "execute_result",
          "data": {
            "text/plain": [
              "   step  type    amount  nameOrig  oldbalanceOrg  nameDest  oldbalanceDest  \\\n",
              "0     1     3   9839.64    757869       170136.0   1662094             0.0   \n",
              "1     1     3   1864.28   2188998        21249.0   1733924             0.0   \n",
              "2     1     4    181.00   1002156          181.0    439685             0.0   \n",
              "3     1     1    181.00   5828262          181.0    391696         21182.0   \n",
              "4     1     3  11668.14   3445981        41554.0    828919             0.0   \n",
              "\n",
              "   isFraud  isFlaggedFraud  \n",
              "0        0               0  \n",
              "1        0               0  \n",
              "2        1               0  \n",
              "3        1               0  \n",
              "4        0               0  "
            ],
            "text/html": [
              "\n",
              "  <div id=\"df-9f902194-fbbb-41c8-a239-6173ac012181\">\n",
              "    <div class=\"colab-df-container\">\n",
              "      <div>\n",
              "<style scoped>\n",
              "    .dataframe tbody tr th:only-of-type {\n",
              "        vertical-align: middle;\n",
              "    }\n",
              "\n",
              "    .dataframe tbody tr th {\n",
              "        vertical-align: top;\n",
              "    }\n",
              "\n",
              "    .dataframe thead th {\n",
              "        text-align: right;\n",
              "    }\n",
              "</style>\n",
              "<table border=\"1\" class=\"dataframe\">\n",
              "  <thead>\n",
              "    <tr style=\"text-align: right;\">\n",
              "      <th></th>\n",
              "      <th>step</th>\n",
              "      <th>type</th>\n",
              "      <th>amount</th>\n",
              "      <th>nameOrig</th>\n",
              "      <th>oldbalanceOrg</th>\n",
              "      <th>nameDest</th>\n",
              "      <th>oldbalanceDest</th>\n",
              "      <th>isFraud</th>\n",
              "      <th>isFlaggedFraud</th>\n",
              "    </tr>\n",
              "  </thead>\n",
              "  <tbody>\n",
              "    <tr>\n",
              "      <th>0</th>\n",
              "      <td>1</td>\n",
              "      <td>3</td>\n",
              "      <td>9839.64</td>\n",
              "      <td>757869</td>\n",
              "      <td>170136.0</td>\n",
              "      <td>1662094</td>\n",
              "      <td>0.0</td>\n",
              "      <td>0</td>\n",
              "      <td>0</td>\n",
              "    </tr>\n",
              "    <tr>\n",
              "      <th>1</th>\n",
              "      <td>1</td>\n",
              "      <td>3</td>\n",
              "      <td>1864.28</td>\n",
              "      <td>2188998</td>\n",
              "      <td>21249.0</td>\n",
              "      <td>1733924</td>\n",
              "      <td>0.0</td>\n",
              "      <td>0</td>\n",
              "      <td>0</td>\n",
              "    </tr>\n",
              "    <tr>\n",
              "      <th>2</th>\n",
              "      <td>1</td>\n",
              "      <td>4</td>\n",
              "      <td>181.00</td>\n",
              "      <td>1002156</td>\n",
              "      <td>181.0</td>\n",
              "      <td>439685</td>\n",
              "      <td>0.0</td>\n",
              "      <td>1</td>\n",
              "      <td>0</td>\n",
              "    </tr>\n",
              "    <tr>\n",
              "      <th>3</th>\n",
              "      <td>1</td>\n",
              "      <td>1</td>\n",
              "      <td>181.00</td>\n",
              "      <td>5828262</td>\n",
              "      <td>181.0</td>\n",
              "      <td>391696</td>\n",
              "      <td>21182.0</td>\n",
              "      <td>1</td>\n",
              "      <td>0</td>\n",
              "    </tr>\n",
              "    <tr>\n",
              "      <th>4</th>\n",
              "      <td>1</td>\n",
              "      <td>3</td>\n",
              "      <td>11668.14</td>\n",
              "      <td>3445981</td>\n",
              "      <td>41554.0</td>\n",
              "      <td>828919</td>\n",
              "      <td>0.0</td>\n",
              "      <td>0</td>\n",
              "      <td>0</td>\n",
              "    </tr>\n",
              "  </tbody>\n",
              "</table>\n",
              "</div>\n",
              "      <button class=\"colab-df-convert\" onclick=\"convertToInteractive('df-9f902194-fbbb-41c8-a239-6173ac012181')\"\n",
              "              title=\"Convert this dataframe to an interactive table.\"\n",
              "              style=\"display:none;\">\n",
              "        \n",
              "  <svg xmlns=\"http://www.w3.org/2000/svg\" height=\"24px\"viewBox=\"0 0 24 24\"\n",
              "       width=\"24px\">\n",
              "    <path d=\"M0 0h24v24H0V0z\" fill=\"none\"/>\n",
              "    <path d=\"M18.56 5.44l.94 2.06.94-2.06 2.06-.94-2.06-.94-.94-2.06-.94 2.06-2.06.94zm-11 1L8.5 8.5l.94-2.06 2.06-.94-2.06-.94L8.5 2.5l-.94 2.06-2.06.94zm10 10l.94 2.06.94-2.06 2.06-.94-2.06-.94-.94-2.06-.94 2.06-2.06.94z\"/><path d=\"M17.41 7.96l-1.37-1.37c-.4-.4-.92-.59-1.43-.59-.52 0-1.04.2-1.43.59L10.3 9.45l-7.72 7.72c-.78.78-.78 2.05 0 2.83L4 21.41c.39.39.9.59 1.41.59.51 0 1.02-.2 1.41-.59l7.78-7.78 2.81-2.81c.8-.78.8-2.07 0-2.86zM5.41 20L4 18.59l7.72-7.72 1.47 1.35L5.41 20z\"/>\n",
              "  </svg>\n",
              "      </button>\n",
              "      \n",
              "  <style>\n",
              "    .colab-df-container {\n",
              "      display:flex;\n",
              "      flex-wrap:wrap;\n",
              "      gap: 12px;\n",
              "    }\n",
              "\n",
              "    .colab-df-convert {\n",
              "      background-color: #E8F0FE;\n",
              "      border: none;\n",
              "      border-radius: 50%;\n",
              "      cursor: pointer;\n",
              "      display: none;\n",
              "      fill: #1967D2;\n",
              "      height: 32px;\n",
              "      padding: 0 0 0 0;\n",
              "      width: 32px;\n",
              "    }\n",
              "\n",
              "    .colab-df-convert:hover {\n",
              "      background-color: #E2EBFA;\n",
              "      box-shadow: 0px 1px 2px rgba(60, 64, 67, 0.3), 0px 1px 3px 1px rgba(60, 64, 67, 0.15);\n",
              "      fill: #174EA6;\n",
              "    }\n",
              "\n",
              "    [theme=dark] .colab-df-convert {\n",
              "      background-color: #3B4455;\n",
              "      fill: #D2E3FC;\n",
              "    }\n",
              "\n",
              "    [theme=dark] .colab-df-convert:hover {\n",
              "      background-color: #434B5C;\n",
              "      box-shadow: 0px 1px 3px 1px rgba(0, 0, 0, 0.15);\n",
              "      filter: drop-shadow(0px 1px 2px rgba(0, 0, 0, 0.3));\n",
              "      fill: #FFFFFF;\n",
              "    }\n",
              "  </style>\n",
              "\n",
              "      <script>\n",
              "        const buttonEl =\n",
              "          document.querySelector('#df-9f902194-fbbb-41c8-a239-6173ac012181 button.colab-df-convert');\n",
              "        buttonEl.style.display =\n",
              "          google.colab.kernel.accessAllowed ? 'block' : 'none';\n",
              "\n",
              "        async function convertToInteractive(key) {\n",
              "          const element = document.querySelector('#df-9f902194-fbbb-41c8-a239-6173ac012181');\n",
              "          const dataTable =\n",
              "            await google.colab.kernel.invokeFunction('convertToInteractive',\n",
              "                                                     [key], {});\n",
              "          if (!dataTable) return;\n",
              "\n",
              "          const docLinkHtml = 'Like what you see? Visit the ' +\n",
              "            '<a target=\"_blank\" href=https://colab.research.google.com/notebooks/data_table.ipynb>data table notebook</a>'\n",
              "            + ' to learn more about interactive tables.';\n",
              "          element.innerHTML = '';\n",
              "          dataTable['output_type'] = 'display_data';\n",
              "          await google.colab.output.renderOutput(dataTable, element);\n",
              "          const docLink = document.createElement('div');\n",
              "          docLink.innerHTML = docLinkHtml;\n",
              "          element.appendChild(docLink);\n",
              "        }\n",
              "      </script>\n",
              "    </div>\n",
              "  </div>\n",
              "  "
            ]
          },
          "metadata": {},
          "execution_count": 13
        }
      ]
    },
    {
      "cell_type": "markdown",
      "source": [
        "**Hence the features having collinearity greater than 90% are dropped.**"
      ],
      "metadata": {
        "id": "7h7yysg65N74"
      }
    },
    {
      "cell_type": "code",
      "source": [
        "Y = new_df[\"isFraud\"]\n",
        "X = new_df.drop([\"isFraud\"], axis= 1)\n",
        "from sklearn.model_selection import train_test_split\n",
        "(X_train, X_test, Y_train, Y_test) = train_test_split(X, Y, test_size= 0.3, random_state= 42)\n",
        "from sklearn.tree import DecisionTreeClassifier\n",
        "classifier = DecisionTreeClassifier()\n",
        "classifier.fit(X_train, Y_train)\n"
      ],
      "metadata": {
        "colab": {
          "base_uri": "https://localhost:8080/"
        },
        "id": "7oeSTJRrAhOS",
        "outputId": "ec5c107d-4c3c-4591-efde-2c1b6dec187e"
      },
      "execution_count": null,
      "outputs": [
        {
          "output_type": "stream",
          "name": "stdout",
          "text": [
            "99.92555477670099\n"
          ]
        }
      ]
    },
    {
      "cell_type": "code",
      "source": [
        "y_preds_ds = classifier.predict(X_test)\n",
        "dt_score = classifier.score(X_test, Y_test) * 100\n",
        "print(\"Decision Tree Score: \",dt_score)"
      ],
      "metadata": {
        "colab": {
          "base_uri": "https://localhost:8080/"
        },
        "id": "vD3k2BiCJ7Ul",
        "outputId": "215a8206-27c0-4360-b4bf-cc55d133f5f6"
      },
      "execution_count": null,
      "outputs": [
        {
          "output_type": "stream",
          "name": "stdout",
          "text": [
            "Decision Tree Score:  99.92555477670099\n"
          ]
        }
      ]
    },
    {
      "cell_type": "code",
      "source": [
        "from sklearn.ensemble import RandomForestClassifier\n",
        "random_forest = RandomForestClassifier(n_estimators= 100)\n",
        "random_forest.fit(X_train, Y_train)\n",
        "\n",
        "\n"
      ],
      "metadata": {
        "id": "OOt3WitEBayG"
      },
      "execution_count": null,
      "outputs": []
    },
    {
      "cell_type": "code",
      "source": [
        "y_preds_rf = random_forest.predict(X_test)\n",
        "rf_score = random_forest.score(X_test, Y_test) * 100\n",
        "print(\"Random Forest Score: \",rf_score)"
      ],
      "metadata": {
        "colab": {
          "base_uri": "https://localhost:8080/"
        },
        "id": "K3lTB6t0Kl9j",
        "outputId": "4b5d73a9-0e83-4e99-dc56-a640c0360510"
      },
      "execution_count": null,
      "outputs": [
        {
          "output_type": "stream",
          "name": "stdout",
          "text": [
            "Random Forest Score:  99.94520077158991\n"
          ]
        }
      ]
    },
    {
      "cell_type": "code",
      "source": [
        "from sklearn.linear_model import LogisticRegression \n",
        "logreg =  LogisticRegression(solver='liblinear') \n",
        "logreg.fit(X_train,Y_train) \n",
        "y_pred_lr=logreg.predict(X_test) \n"
      ],
      "metadata": {
        "id": "mShUL-03Bpta"
      },
      "execution_count": null,
      "outputs": []
    },
    {
      "cell_type": "code",
      "source": [
        "y_preds_lr = logreg.predict(X_test)\n",
        "lr_score = logreg.score(X_test, Y_test) * 100\n",
        "print(\"Logistic Regression Score: \",lr_score)"
      ],
      "metadata": {
        "colab": {
          "base_uri": "https://localhost:8080/"
        },
        "id": "C709gajWLL-h",
        "outputId": "74b0ae73-bfae-4800-c05e-f4b0ad52f478"
      },
      "execution_count": null,
      "outputs": [
        {
          "output_type": "stream",
          "name": "stdout",
          "text": [
            "Logistic Regression Score:  99.86279237169595\n"
          ]
        }
      ]
    },
    {
      "cell_type": "markdown",
      "source": [
        "**Classification Report :**"
      ],
      "metadata": {
        "id": "cVUo17v7xVLx"
      }
    },
    {
      "cell_type": "code",
      "source": [
        "from sklearn.metrics import classification_report\n",
        "report_ds = classification_report(Y_test, y_preds_ds)\n",
        "print(\"Classification Report - Decision Tree\")\n",
        "print(report_ds)\n",
        "\n",
        "report_rf = classification_report(Y_test, y_preds_rf)\n",
        "print(\"Classification Report - Random Forest\")\n",
        "print(report_rf)\n",
        "\n",
        "report_lr = classification_report(Y_test, y_preds_lr)\n",
        "print(\"Classification Report - Logistic Regression\")\n",
        "print(report_lr)\n",
        "\n",
        "\n"
      ],
      "metadata": {
        "colab": {
          "base_uri": "https://localhost:8080/"
        },
        "id": "IKodMNX-JcZr",
        "outputId": "dfaeefec-e131-4726-ef1a-5e8180d7fe06"
      },
      "execution_count": null,
      "outputs": [
        {
          "output_type": "stream",
          "name": "stdout",
          "text": [
            "Classification Report - Decision Tree\n",
            "              precision    recall  f1-score   support\n",
            "\n",
            "           0       1.00      1.00      1.00   1906351\n",
            "           1       0.71      0.71      0.71      2435\n",
            "\n",
            "    accuracy                           1.00   1908786\n",
            "   macro avg       0.85      0.86      0.85   1908786\n",
            "weighted avg       1.00      1.00      1.00   1908786\n",
            "\n",
            "Classification Report - Random Forest\n",
            "              precision    recall  f1-score   support\n",
            "\n",
            "           0       1.00      1.00      1.00   1906351\n",
            "           1       0.94      0.61      0.74      2435\n",
            "\n",
            "    accuracy                           1.00   1908786\n",
            "   macro avg       0.97      0.80      0.87   1908786\n",
            "weighted avg       1.00      1.00      1.00   1908786\n",
            "\n",
            "Classification Report - Logistic Regression\n",
            "              precision    recall  f1-score   support\n",
            "\n",
            "           0       1.00      1.00      1.00   1906351\n",
            "           1       0.07      0.01      0.01      2435\n",
            "\n",
            "    accuracy                           1.00   1908786\n",
            "   macro avg       0.53      0.50      0.51   1908786\n",
            "weighted avg       1.00      1.00      1.00   1908786\n",
            "\n"
          ]
        }
      ]
    },
    {
      "cell_type": "markdown",
      "source": [
        "For an imbalanced class dataset F1 score is a more appropriate metric. It is the harmonic mean of precision and recall . F1 score keeps the balance between precision and recall and improves the score only if the classifier identifies more of a certain class correctly.\n",
        "\n",
        "\n",
        "**Hence F1 score for Random Forest is best.**\n",
        "\n",
        "\n"
      ],
      "metadata": {
        "id": "gb60f69GNGQn"
      }
    },
    {
      "cell_type": "markdown",
      "source": [
        "Confusion Matrix:-"
      ],
      "metadata": {
        "id": "LT0e05qGxem5"
      }
    },
    {
      "cell_type": "code",
      "source": [
        "from sklearn.metrics import plot_confusion_matrix\n",
        "plot_confusion_matrix(classifier, X_test, Y_test) \n",
        "plt.title('Confusion Matrix - DT') \n",
        "plt.show()\n",
        "\n",
        "\n",
        "plot_confusion_matrix(random_forest, X_test, Y_test) \n",
        "plt.title('Confusion Matrix - RF')  \n",
        "plt.show()"
      ],
      "metadata": {
        "colab": {
          "base_uri": "https://localhost:8080/",
          "height": 662
        },
        "id": "k-qd4bsZM2vP",
        "outputId": "a42e007c-851c-40eb-bfa1-1cc0982b71b8"
      },
      "execution_count": null,
      "outputs": [
        {
          "output_type": "stream",
          "name": "stderr",
          "text": [
            "/usr/local/lib/python3.7/dist-packages/sklearn/utils/deprecation.py:87: FutureWarning: Function plot_confusion_matrix is deprecated; Function `plot_confusion_matrix` is deprecated in 1.0 and will be removed in 1.2. Use one of the class methods: ConfusionMatrixDisplay.from_predictions or ConfusionMatrixDisplay.from_estimator.\n",
            "  warnings.warn(msg, category=FutureWarning)\n"
          ]
        },
        {
          "output_type": "display_data",
          "data": {
            "text/plain": [
              "<Figure size 432x288 with 2 Axes>"
            ],
            "image/png": "[encoded data removed]"
          },
          "metadata": {
            "needs_background": "light"
          }
        },
        {
          "output_type": "stream",
          "name": "stderr",
          "text": [
            "/usr/local/lib/python3.7/dist-packages/sklearn/utils/deprecation.py:87: FutureWarning: Function plot_confusion_matrix is deprecated; Function `plot_confusion_matrix` is deprecated in 1.0 and will be removed in 1.2. Use one of the class methods: ConfusionMatrixDisplay.from_predictions or ConfusionMatrixDisplay.from_estimator.\n",
            "  warnings.warn(msg, category=FutureWarning)\n"
          ]
        },
        {
          "output_type": "display_data",
          "data": {
            "text/plain": [
              "<Figure size 432x288 with 2 Axes>"
            ],
            "image/png": "[encoded data removed]"
          },
          "metadata": {
            "needs_background": "light"
          }
        }
      ]
    },
    {
      "cell_type": "markdown",
      "source": [
        "##Data cleaning including missing values, outliers and multi-collinearity.\n",
        "Multicollinearity means common features between independent features.I had solve it by creating a correlation heat map and finding which all features (apart from dependent features) are more than 90% correlated and drop it from dataset.\n",
        "\n",
        "##Describe your fraud detection model in elaboration.\n",
        "Developed a model for predicting fraudulent transactions , which will predict fraud.Although by checking the count of Fraud and Legal ransaction from the \"is_Fraud\" column, I got to know that the data is imbalanced .As count of Fraud Transaction is too less as compared to legal (no fraud ) transaction . So it is Imbalanced data ,as the No_Fraud Class has very high number of observations and the Is_Fraud Class has very low number of observations .Hence for an Imbalaced Class dataset F1 score is the most appropriate metric.\n",
        "Then the model which gives best F1 score gives more accurate result.\n",
        "\n",
        "##How did you select variables to be included in the model?\n",
        "As the datset contains multicollinearity , so few features were correlated with each other . And there is no use of taking both the features for model evaluation. So dropped some highly correlated features with correlation greater than 90%,  and rest features were selected to be included in model.\n",
        "\n",
        "##Demonstrate the performance of the model by using best set of tools. \n",
        "for evaluating the Performance of the model we calculate F1 score, Confusion Matrix, Presion etc\n",
        "As the data was imbalanced so F1 score is the most appropriate metric, as F1 score keeps the balance between precision and recall. So model with high F1 score is considered as best model . Here Random Forest gives the best F1 score.\n",
        "\n",
        "##What are the key factors that predict fraudulent customer?\n",
        "\n",
        "\n",
        "1.   customer's identity like- email id , phone number ,etc.\n",
        "2.   for a single account their might be multiple payments methods done within an hour.\n",
        "3.   past transactions.\n",
        "\n",
        "\n",
        "##Do these factors make sense? If yes, How? If not, How not? \n",
        "Yes , these factors makes sense as customer's identity like email-id , phone number. If these things does not get matched with the database that the company has then theirmight be fraud. also the past transaction may be a key factor for fraud customer prediction.\n",
        "\n",
        "##What kind of prevention should be adopted while company update its infrastructure?\n",
        "\n",
        "1.   never disclose your password on phone calls , as no bank/company asks for your password through phone calls.\n",
        "2.   same goes with OTP(one time password)\n",
        "3.   browse through safe and secured websites only\n",
        "4.   Theer's always a help desk number of the company,immediately contact comapny if u feel something suspicious.\n",
        "\n",
        "##Assuming these actions have been implemented, how would you determine if they work?\n",
        "\n",
        "\n",
        "1.   Customer's getting an immediate response through text messages , if there's any trasactions from thier account.\n",
        "2.  giving customer the assurity that the browser they are using is secured.\n",
        "\n",
        "\n",
        "\n",
        "\n",
        "\n",
        "\n",
        "\n",
        "\n",
        "\n",
        "\n",
        "\n"
      ],
      "metadata": {
        "id": "-DVBQaiDdhfQ"
      }
    }
  ]
}